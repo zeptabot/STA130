{
 "cells": [
  {
   "cell_type": "markdown",
   "id": "4035d668",
   "metadata": {},
   "source": [
    "#### *Analysis 1*\n",
    "**Research Question:** Has the level of emotional loneliness experienced by Canadians changed from 2021 to 2022?\n",
    "\n",
    "**Variables:**`LONELY_dejong_emotional_loneliness_sub_scale_score` from both the 2021 cross-sectional survey and the 2022 cohort survey, reported by the same individuals (same ID across two surveys). This numerical score assesses the level of emotional loneliness experienced by individuals.\n",
    "\n",
    "*Relevance*: Emotional loneliness is a critical indicator of social connections.\n",
    "\n",
    "**Visualizations:** `Boxplots` for both the loneliness scores of 2021 and 2022, And a `histogram` for the paired difference in scores (2022 score minus 2021 score for the same individual).\n",
    "\n",
    "`Boxplots` effectively display medians, quartiles, and potential outliers, making them good for comparing the central tendencies of scores between two years. A `histogram` visualizes the distribution, sample size, modality, and potential skew of the differences, providing an intuitive assessment.\n",
    "\n",
    "**Analysis:** Using data from participants who completed both surveys, we will calculate the **difference in emotional loneliness scores** for each individual. A **95% confidence interval** for the **mean difference** (μ) will be constructed via **bootstrapped resampling**.\n",
    "\n",
    "**Assumptions:** 1, Both the population and the sample size are sufficiently large. 2, The sample is unbiased and representative. 3, Each observation is randomly selected from its population.\n",
    "\n",
    "**Hypotheses:**\n",
    "Null Hypothesis (H₀): μ=0 (No significant mean difference in emotional loneliness scores between 2 years).\n",
    "\n",
    "Alternative Hypothesis (H₁): μ!=0 (significant difference). \n",
    "\n",
    "**Possible Results:**\n",
    "Significant Decrease: The 95% confidence interval does not include zero and is negative.\n",
    "\n",
    "Significant Increase: The 95% confidence interval does not include zero and is positive.\n",
    "\n",
    "No Significant Change: The 95% confidence interval includes zero. (Fail to reject the null hypothesis)\n",
    "\n",
    "**Relevance to Question:** Results help us infer if emotional loneliness among Canadians has significantly increased, decreased, or seen no significant change from 2021 to 2022."
   ]
  },
  {
   "cell_type": "markdown",
   "id": "643c9fba",
   "metadata": {},
   "source": [
    "#### *Analysis 2*\n",
    "**Research Question:** Is there an association between the number of hours Canadians work per week and their burnout levels in 2022?\n",
    "\n",
    "**Variables:**\n",
    "\n",
    "Outcome: `WELLNESS_malach_pines_burnout_measure_score`. This numerical score assesses the level of burnout experienced by individuals.\n",
    "\n",
    "Predictor: `WORK_hours_per_week`. This numerical variable Represents the total number of hours an individual works in a week.\n",
    "\n",
    "Relevance: Burnout negatively affects well-being and social connections, aligning with the Canadian Social Connection Survey (CSCS) project's goals.\n",
    "\n",
    "**Visualizations:** `Kernel Density Estimation (KDE)` plots will be used for both variables. They are useful because they visualize the distribution, sample size, and modality while providing smooth and visually appealing representation, approporiate for numeric variables with many different values.\n",
    "\n",
    "**Analysis:** Using data from the 2022 cross-sectional survey, a **least squares linear regression model** will be fitted with 'WORK_hours_per_week' predicting 'WELLNESS_malach_pines_burnout_measure_score'. A **95% confidence interval** for the slope coefficient **(beta1)** will be constructed via **bootstrapped resampling**.\n",
    "\n",
    "**Assumptions:** Linearity, independence of observations, normality of residuals, homoscedasticity, and minimal measurement error in WORK_hours_per_week.\n",
    "\n",
    "**Hypothesis:**\n",
    "\n",
    "Null Hypothesis (H₀): beta1=0 (There is no linear association between work hours and burnout levels).\n",
    "\n",
    "Alternative Hypothesis (H₁): beta1!=0 (Significant linear association between work hours and burnout levels).\n",
    "\n",
    "**Possible Results:**\n",
    "\n",
    "Statistically significant negative association: The 95% CI for beta1 does not include zero and is negative. \n",
    "\n",
    "Statistically significant positive association: The 95% CI does not include zero and is positive. \n",
    "\n",
    "No statistically significant association: The 95% CI includes zero. We fail to reject the null hypothesis that there is no linear relationship between work hours and burnout levels in the studied sample of Canadians. \n",
    "\n",
    "**Relevance to Question:** These results will help us infer if work hours are positively, negatively, or not linearly associated with burnout levels in Canadians in 2022"
   ]
  },
  {
   "cell_type": "markdown",
   "id": "c5022391",
   "metadata": {},
   "source": [
    "#### *Analysis 3*\n",
    "**Research Question:** Is there an association between the time Canadians spend on social media and their self-reported negative body image in 2022?\n",
    "\n",
    "**Variables:**\n",
    "\n",
    "`PSYCH_body_self_image_questionnaire_think_unattractive`: **ordinal variable** from the 2022 cross-sectional survey, assessing agreement with the statement *\"I think my body is unattractive.\"* through 5 categorical responses.\n",
    "\n",
    "`CONNECTION_social_media_time_per_day`:Also **ordinal** and from the 2022 cross survey, assessing time spent on social media with 6 categorical responses.\n",
    "\n",
    "**Visualizations:** `Bar plots` for both ordinal variables. Bar plots are useful for visualizing the distribution of ordinal responses, because they represent the count of values of each category as the height of a bar, providng an intuitive assessment.\n",
    "\n",
    "**Analysis:** Using data from the 2022 cross-sectional survey, we will perform **Fisher's Exact Test** on the 5×6 contingency table constructed from the two variables. We will pre-determine an **alpha siginifance level of 0.05**. Due to the computational intensity of calculating each possible combination, we will utilize a **Monte Carlo simulation** to estimate the p-value accurately. This method involves generating a large number of simulated contingency tables under the null hypothesis. Our p-value is proportion of tables that are as or more extreme than the observed table. It will be compared with our alpha siginifance level.\n",
    "\n",
    "**Assumptions:** Independence of observations, Mutually exclusive categories, Random sampling, Independent observations and Fixed row & column totals.\n",
    "\n",
    "**Hypotheses:**\n",
    "\n",
    "Null Hypothesis (H₀):There is no association between time spent on social media and negative body image.\n",
    "\n",
    "Alternative Hypothesis (H₁):There is an association between time spent on social media and negative body image.\n",
    "\n",
    "**Possible Results**\n",
    "\n",
    "Statistically significant association: p-value <= 0.05. (Reject Null Hypothesis)\n",
    "\n",
    "No statistically significant association: p-value > 0.05. (Fail to reject Null Hypothesis)\n",
    "\n",
    "**Relevance to Question:** These results will help us determine if time spent on social media is associated with negative body image among Canadians.\n"
   ]
  },
  {
   "cell_type": "code",
   "execution_count": 1,
   "id": "d17bc5aa",
   "metadata": {},
   "outputs": [
    {
     "name": "stderr",
     "output_type": "stream",
     "text": [
      "/tmp/ipykernel_277/1917690716.py:6: DtypeWarning: Columns (129,408,630,671,689,978,1001,1002,1006,1007,1008,1080,1113,1115,1116,1117,1118,1119,1120,1121,1124,1125,1126,1127,1128,1213,1214,1215,1216,1217,1218,1263,1266,1342,1343,1344,1345,1346,1347,1348,1349,1390,1391,1393,1439,1442,1463,1546,1549,1552,1555,1558,1561) have mixed types. Specify dtype option on import or set low_memory=False.\n",
      "  data = pd.read_csv(\n"
     ]
    },
    {
     "name": "stdout",
     "output_type": "stream",
     "text": [
      "95% Confidence Interval for the mean difference: (-0.3682539682539683, -0.1873015873015873)\n",
      "Based on preliminary analysis, the 95% confidence interval for the mean difference is entirely negative, suggesting a significant decrease in emotional loneliness from 2021 to 2022.\n"
     ]
    }
   ],
   "source": [
    "#Analysis 1\n",
    "import pandas as pd\n",
    "import numpy as np\n",
    "\n",
    "# Read in the variable names and data\n",
    "cols = pd.read_csv(\"https://raw.githubusercontent.com/pointOfive/stat130chat130/main/CP/var_names.csv\")\n",
    "data = pd.read_csv(\n",
    "    \"https://raw.githubusercontent.com/pointOfive/stat130chat130/main/CP/CSCS_data_anon.csv\",\n",
    "    na_values=[\"9999\", \"\", \" \", \"Presented but no response\", \"NA\"]\n",
    ")\n",
    "\n",
    "# Remove empty columns\n",
    "empty = (data.isna().sum() == data.shape[0])\n",
    "data = data[empty.index[~empty]]  # Keep non-empty columns only\n",
    "\n",
    "# Remove cases recommended for removal\n",
    "dataV2 = data[data['REMOVE_case'] == 'No'].copy()\n",
    "\n",
    "# Select participants who are part of the cohort data\n",
    "dataV2_cohort = dataV2[dataV2['SURVEY_cohort_participant']].copy()\n",
    "\n",
    "# Remove data from the year 2023\n",
    "dataV2_cohortV2 = dataV2_cohort[dataV2_cohort['SURVEY_collection_year'] != 2023].copy()\n",
    "\n",
    "# Remove columns with too many missing values\n",
    "missingness_limit = 100  # Retain columns with fewer missing values\n",
    "columns2keep = dataV2_cohortV2.isna().sum() < missingness_limit\n",
    "columns2keep = columns2keep.index[columns2keep]\n",
    "dataV2_cohortV3 = dataV2_cohortV2[columns2keep].copy()\n",
    "\n",
    "# Exclude participants who took more than 30 seconds per question\n",
    "dataV2_cohortV4 = dataV2_cohortV3[dataV2_cohortV3['Secs_per_q'] < 30].copy()\n",
    "\n",
    "# Create a survey year identifier\n",
    "dataV2_cohortV4['SURVEY_YEAR'] = (\n",
    "    dataV2_cohortV4['SURVEY_collection_type'] + ' ' +\n",
    "    dataV2_cohortV4['SURVEY_collection_year'].astype(str)\n",
    ")\n",
    "\n",
    "# Focus on the variable of interest\n",
    "variables_of_interest = [\n",
    "    'LONELY_dejong_emotional_loneliness_sub_scale_score'\n",
    "]\n",
    "\n",
    "# Reshape the data to long format\n",
    "dataV2_cohortV4_wide = dataV2_cohortV4.melt(\n",
    "    id_vars=['UNIQUE_id', 'SURVEY_YEAR'],\n",
    "    value_vars=variables_of_interest\n",
    ")\n",
    "\n",
    "# Append the survey year to variable names\n",
    "dataV2_cohortV4_wide['variable'] = (\n",
    "    dataV2_cohortV4_wide['variable'] + ' (' + dataV2_cohortV4_wide['SURVEY_YEAR'] + ')'\n",
    ")\n",
    "\n",
    "# Pivot the data to wide format to align variables side by side for each participant\n",
    "dataV2_cohortV4_wide = dataV2_cohortV4_wide.pivot(\n",
    "    index='UNIQUE_id',\n",
    "    columns='variable',\n",
    "    values='value'\n",
    ")\n",
    "\n",
    "# Consider fully observed data only\n",
    "dataV2_cohortV4_wideV2 = dataV2_cohortV4_wide.dropna()\n",
    "\n",
    "# Extract the emotional loneliness scores for 2021 and 2022\n",
    "loneliness_2021 = dataV2_cohortV4_wideV2[\n",
    "    'LONELY_dejong_emotional_loneliness_sub_scale_score (cross 2021)'\n",
    "]\n",
    "loneliness_2022 = dataV2_cohortV4_wideV2[\n",
    "    'LONELY_dejong_emotional_loneliness_sub_scale_score (cohort 2022)'\n",
    "]\n",
    "\n",
    "# Calculate the difference in scores for each participant\n",
    "score_difference = loneliness_2022 - loneliness_2021\n",
    "\n",
    "# Bootstrap resampling to compute the 95% confidence interval\n",
    "bootstrap_means = []\n",
    "for _ in range(10000):\n",
    "    resampled_difference = score_difference.sample(frac=1, replace=True)\n",
    "    bootstrap_means.append(resampled_difference.mean())\n",
    "\n",
    "# Calculate the confidence interval bounds\n",
    "lower_bound = np.percentile(bootstrap_means, 2.5)\n",
    "upper_bound = np.percentile(bootstrap_means, 97.5)\n",
    "\n",
    "print(f'95% Confidence Interval for the mean difference: ({lower_bound}, {upper_bound})')\n",
    "print(\"Based on preliminary analysis, the 95% confidence interval for the mean difference is entirely negative, suggesting a significant decrease in emotional loneliness from 2021 to 2022.\")"
   ]
  },
  {
   "cell_type": "code",
   "execution_count": 12,
   "id": "dccfc094",
   "metadata": {},
   "outputs": [
    {
     "data": {
      "text/html": [
       "<img src=\"https://raw.githubusercontent.com/zeptabot/STA130/refs/heads/main/%E5%B1%8F%E5%B9%95%E6%88%AA%E5%9B%BE%202024-10-31%20220256.jpg\"/>"
      ],
      "text/plain": [
       "<IPython.core.display.Image object>"
      ]
     },
     "execution_count": 12,
     "metadata": {},
     "output_type": "execute_result"
    }
   ],
   "source": [
    "#Analysis 3\n",
    "from IPython.display import Image\n",
    "\n",
    "Image(url='https://raw.githubusercontent.com/zeptabot/STA130/refs/heads/main/%E5%B1%8F%E5%B9%95%E6%88%AA%E5%9B%BE%202024-10-31%20220256.jpg')\n",
    "\n"
   ]
  },
  {
   "cell_type": "markdown",
   "id": "a0980c40",
   "metadata": {},
   "source": [
    "Suggested Course Project Group: Chenhao Sun, Cayden Wong, Andrew Pols and Me"
   ]
  }
 ],
 "metadata": {
  "kernelspec": {
   "display_name": "Python 3 (ipykernel)",
   "language": "python",
   "name": "python3"
  },
  "language_info": {
   "codemirror_mode": {
    "name": "ipython",
    "version": 3
   },
   "file_extension": ".py",
   "mimetype": "text/x-python",
   "name": "python",
   "nbconvert_exporter": "python",
   "pygments_lexer": "ipython3",
   "version": "3.11.6"
  }
 },
 "nbformat": 4,
 "nbformat_minor": 5
}
