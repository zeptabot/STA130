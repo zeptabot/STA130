{
 "cells": [
  {
   "cell_type": "code",
   "execution_count": 1,
   "id": "109ea0b7",
   "metadata": {},
   "outputs": [],
   "source": [
    "#Question 1\n",
    "\n",
    "import pandas as p\n"
   ]
  },
  {
   "cell_type": "code",
   "execution_count": 2,
   "id": "2242bef5",
   "metadata": {},
   "outputs": [
    {
     "data": {
      "text/plain": [
       "<bound method NDFrame.head of      survived  pclass     sex   age  sibsp  parch     fare embarked   class  \\\n",
       "0           0       3    male  22.0      1      0   7.2500        S   Third   \n",
       "1           1       1  female  38.0      1      0  71.2833        C   First   \n",
       "2           1       3  female  26.0      0      0   7.9250        S   Third   \n",
       "3           1       1  female  35.0      1      0  53.1000        S   First   \n",
       "4           0       3    male  35.0      0      0   8.0500        S   Third   \n",
       "..        ...     ...     ...   ...    ...    ...      ...      ...     ...   \n",
       "886         0       2    male  27.0      0      0  13.0000        S  Second   \n",
       "887         1       1  female  19.0      0      0  30.0000        S   First   \n",
       "888         0       3  female   NaN      1      2  23.4500        S   Third   \n",
       "889         1       1    male  26.0      0      0  30.0000        C   First   \n",
       "890         0       3    male  32.0      0      0   7.7500        Q   Third   \n",
       "\n",
       "       who  adult_male deck  embark_town alive  alone  \n",
       "0      man        True  NaN  Southampton    no  False  \n",
       "1    woman       False    C    Cherbourg   yes  False  \n",
       "2    woman       False  NaN  Southampton   yes   True  \n",
       "3    woman       False    C  Southampton   yes  False  \n",
       "4      man        True  NaN  Southampton    no   True  \n",
       "..     ...         ...  ...          ...   ...    ...  \n",
       "886    man        True  NaN  Southampton    no   True  \n",
       "887  woman       False    B  Southampton   yes   True  \n",
       "888  woman       False  NaN  Southampton    no  False  \n",
       "889    man        True    C    Cherbourg   yes   True  \n",
       "890    man        True  NaN   Queenstown    no   True  \n",
       "\n",
       "[891 rows x 15 columns]>"
      ]
     },
     "execution_count": 2,
     "metadata": {},
     "output_type": "execute_result"
    }
   ],
   "source": [
    "url=\"https://raw.githubusercontent.com/mwaskom/seaborn-data/master/titanic.csv\"\n",
    "df=p.read_csv(url)\n",
    "df.head"
   ]
  },
  {
   "cell_type": "code",
   "execution_count": 3,
   "id": "e4cdc5bb",
   "metadata": {},
   "outputs": [
    {
     "name": "stdout",
     "output_type": "stream",
     "text": [
      "survived         0\n",
      "pclass           0\n",
      "sex              0\n",
      "age            177\n",
      "sibsp            0\n",
      "parch            0\n",
      "fare             0\n",
      "embarked         2\n",
      "class            0\n",
      "who              0\n",
      "adult_male       0\n",
      "deck           688\n",
      "embark_town      2\n",
      "alive            0\n",
      "alone            0\n",
      "dtype: int64\n",
      "0      1\n",
      "1      0\n",
      "2      1\n",
      "3      0\n",
      "4      1\n",
      "      ..\n",
      "886    1\n",
      "887    0\n",
      "888    2\n",
      "889    0\n",
      "890    1\n",
      "Length: 891, dtype: int64\n"
     ]
    }
   ],
   "source": [
    "print(df.isna().sum())\n",
    "print(df.isna().sum(axis=1))"
   ]
  },
  {
   "cell_type": "code",
   "execution_count": 4,
   "id": "c50e9f27",
   "metadata": {},
   "outputs": [],
   "source": [
    "#For Q1:https://chatgpt.com/share/70c1eed7-79ff-44b7-9aef-77f69212df3f"
   ]
  },
  {
   "cell_type": "code",
   "execution_count": 5,
   "id": "3a3e734d",
   "metadata": {},
   "outputs": [
    {
     "name": "stdout",
     "output_type": "stream",
     "text": [
      "(891, 15)\n"
     ]
    }
   ],
   "source": [
    "#Question 2\n",
    "\n",
    "print(df.shape)\n",
    "#Variables are properties that can be measured, like color,age,taste,size,etc.\n",
    "#Observations are ENTITIES from which multiple variables are collected so we could understand them better.\n",
    "#In a pandas dataframe, observsations're often ROWS while variables are columns"
   ]
  },
  {
   "cell_type": "code",
   "execution_count": 6,
   "id": "e896dd47",
   "metadata": {},
   "outputs": [
    {
     "name": "stdout",
     "output_type": "stream",
     "text": [
      "Numerical Summary:\n",
      "              age        fare\n",
      "count  714.000000  891.000000\n",
      "mean    29.699118   32.204208\n",
      "std     14.526497   49.693429\n",
      "min      0.420000    0.000000\n",
      "25%     20.125000    7.910400\n",
      "50%     28.000000   14.454200\n",
      "75%     38.000000   31.000000\n",
      "max     80.000000  512.329200\n",
      "\n",
      "Categorical Summary (Sex):\n",
      "sex\n",
      "male      577\n",
      "female    314\n",
      "Name: count, dtype: int64\n",
      "\n",
      "Categorical Summary (Class):\n",
      "class\n",
      "Third     491\n",
      "First     216\n",
      "Second    184\n",
      "Name: count, dtype: int64\n"
     ]
    }
   ],
   "source": [
    "#Question 3\n",
    "\n",
    "# Summary for numerical columns\n",
    "numerical_summary = df[['age', 'fare']].describe()\n",
    "\n",
    "# Summary for categorical columns (using 'sex' and 'class' as examples)\n",
    "categorical_summary_sex = df['sex'].value_counts()\n",
    "categorical_summary_class = df['class'].value_counts()\n",
    "\n",
    "# Display the summaries\n",
    "print(\"Numerical Summary:\")\n",
    "print(numerical_summary)\n",
    "\n",
    "print(\"\\nCategorical Summary (Sex):\")\n",
    "print(categorical_summary_sex)\n",
    "\n",
    "print(\"\\nCategorical Summary (Class):\")\n",
    "print(categorical_summary_class)"
   ]
  },
  {
   "cell_type": "code",
   "execution_count": 7,
   "id": "819fe682",
   "metadata": {},
   "outputs": [],
   "source": [
    "#For Q2 Q3: https://chatgpt.com/share/ca72ba99-562f-41d2-a4fd-cef07d55105f"
   ]
  },
  {
   "cell_type": "code",
   "execution_count": 8,
   "id": "3f104316",
   "metadata": {},
   "outputs": [
    {
     "name": "stdout",
     "output_type": "stream",
     "text": [
      "         survived      pclass         age       sibsp       parch        fare\n",
      "count  891.000000  891.000000  714.000000  891.000000  891.000000  891.000000\n",
      "mean     0.383838    2.308642   29.699118    0.523008    0.381594   32.204208\n",
      "std      0.486592    0.836071   14.526497    1.102743    0.806057   49.693429\n",
      "min      0.000000    1.000000    0.420000    0.000000    0.000000    0.000000\n",
      "25%      0.000000    2.000000   20.125000    0.000000    0.000000    7.910400\n",
      "50%      0.000000    3.000000   28.000000    0.000000    0.000000   14.454200\n",
      "75%      1.000000    3.000000   38.000000    1.000000    0.000000   31.000000\n",
      "max      1.000000    3.000000   80.000000    8.000000    6.000000  512.329200\n",
      "(8, 6)\n",
      "(891, 15)\n"
     ]
    }
   ],
   "source": [
    "#Question 4:\n",
    "print(df.describe())\n",
    "print(df.describe().shape)\n",
    "print (df.shape)"
   ]
  },
  {
   "cell_type": "code",
   "execution_count": 9,
   "id": "c67ae8c5",
   "metadata": {},
   "outputs": [],
   "source": [
    "#The first Discrepancy: df.shape shows 15 columns while df.describe() shows 6.\n",
    "#cuz only 6 out of 15 columns contains numerical data and are therefore processed by the .describe() method.\n",
    "#2nd discrepancy: column \"age\" has \"count\" value lower than the total number of rows in the dataset (df.shape).\n",
    "#this is because it has missing numeric values and arwe therefore not all counted."
   ]
  },
  {
   "cell_type": "code",
   "execution_count": 10,
   "id": "4e2323c3",
   "metadata": {},
   "outputs": [],
   "source": [
    "#Question 5\n",
    "#An attribute is essentially an associated data that comes with the data set itself. \n",
    "    #'df.attribute' simply displays it and doesnt do anything. \n",
    "#A method, however, is essentially a function that performs some kind of action on the dataframe, such as a calculation.\n",
    "    #Therefore, it has a specific ouput."
   ]
  },
  {
   "cell_type": "code",
   "execution_count": 11,
   "id": "c215bc56",
   "metadata": {},
   "outputs": [
    {
     "name": "stdout",
     "output_type": "stream",
     "text": [
      "Here's a summary of our conversations: In our conversations, we discussed the distinction between attributes and methods in programming. Attributes are properties associated with an object, such as df.shape, which directly shows the stored data without performing any actions. Methods, on the other hand, are functions that perform operations or calculations on an object and produce outputs, like df.describe(), which provides a statistical summary. We also explored discrepancies between df.shape and df.describe(), noting that df.shape shows the total dimensions of a DataFrame, while df.describe() only includes numeric columns and their summary statistics. Additionally, we touched on the difference between programming functions, which perform tasks and return results, and mathematical functions, which define relationships between inputs and outputs.\n"
     ]
    }
   ],
   "source": [
    "#For Q4 Q5: https://chatgpt.com/share/66510391-7b81-4da2-957c-2f819a364c25\n",
    "print(\"Here's a summary of our conversations: In our conversations, we discussed the distinction between attributes and methods in programming. Attributes are properties associated with an object, such as df.shape, which directly shows the stored data without performing any actions. Methods, on the other hand, are functions that perform operations or calculations on an object and produce outputs, like df.describe(), which provides a statistical summary. We also explored discrepancies between df.shape and df.describe(), noting that df.shape shows the total dimensions of a DataFrame, while df.describe() only includes numeric columns and their summary statistics. Additionally, we touched on the difference between programming functions, which perform tasks and return results, and mathematical functions, which define relationships between inputs and outputs.\")\n",
    "\n",
    "#My free trial of GPT-4o (the paid model) stopped when I was in the middle of Question4 so I had to start a different chat.\n",
    "#Therefore, My summary of chat was unable include Question 2 and 3. However you can still read the chat via link\n",
    "#Please don't mark me down for this thx"
   ]
  },
  {
   "cell_type": "code",
   "execution_count": 12,
   "id": "26b69a50",
   "metadata": {},
   "outputs": [],
   "source": [
    "#Question 6\n",
    "\n",
    "#count: the number of non-missing values in this column.\n",
    "#mean: the sum of all non-missing values divided by their 'count'.\n",
    "#std: the square root of variance. It measures the spread of non-missing data around the mean in the column. \n",
    "#min: the smallest non-missing value in the column\n",
    "#25%: This is the value that separates the lowest 25% of the non-missing data in the column from the rest\n",
    "#50%: This is the value that separates the lower 50% of the non-missing data in the column from the rest. Also called the median.\n",
    "#75%: The value that separates the lowest 75% of the non-missing data from the highest 25%\n",
    "#max: The largest non-missing value present in the column"
   ]
  },
  {
   "cell_type": "code",
   "execution_count": 13,
   "id": "32bc34cf",
   "metadata": {},
   "outputs": [
    {
     "name": "stdout",
     "output_type": "stream",
     "text": [
      "ChatBot Summary: In this conversation, we discussed the summary statistics provided by df.describe(), including how they handle missing data. We then reviewed the standard deviation formula and provided a concise, one-sentence explanation. Additionally, we clarified that 'average squared deviations from the mean' is equivalent to the variance. Lastly, we explored a use case where df.dropna() is preferred over del df['col'], highlighting how df.dropna() allows for selective row removal based on missing values without losing entire columns\n"
     ]
    }
   ],
   "source": [
    "#For Q6: https://chatgpt.com/share/a027878a-8437-4e7b-8a72-01aeb50abb74\n",
    "print(\"ChatBot Summary: In this conversation, we discussed the summary statistics provided by df.describe(), including how they handle missing data. We then reviewed the standard deviation formula and provided a concise, one-sentence explanation. Additionally, we clarified that 'average squared deviations from the mean' is equivalent to the variance. Lastly, we explored a use case where df.dropna() is preferred over del df['col'], highlighting how df.dropna() allows for selective row removal based on missing values without losing entire columns\")"
   ]
  },
  {
   "cell_type": "code",
   "execution_count": 14,
   "id": "450014bd",
   "metadata": {},
   "outputs": [
    {
     "name": "stdout",
     "output_type": "stream",
     "text": [
      "     survived  pclass     sex  sibsp  parch     fare   class    who  \\\n",
      "0           0       3    male      1      0   7.2500   Third    man   \n",
      "1           1       1  female      1      0  71.2833   First  woman   \n",
      "2           1       3  female      0      0   7.9250   Third  woman   \n",
      "3           1       1  female      1      0  53.1000   First  woman   \n",
      "4           0       3    male      0      0   8.0500   Third    man   \n",
      "..        ...     ...     ...    ...    ...      ...     ...    ...   \n",
      "886         0       2    male      0      0  13.0000  Second    man   \n",
      "887         1       1  female      0      0  30.0000   First  woman   \n",
      "888         0       3  female      1      2  23.4500   Third  woman   \n",
      "889         1       1    male      0      0  30.0000   First    man   \n",
      "890         0       3    male      0      0   7.7500   Third    man   \n",
      "\n",
      "     adult_male alive  alone  \n",
      "0          True    no  False  \n",
      "1         False   yes  False  \n",
      "2         False   yes   True  \n",
      "3         False   yes  False  \n",
      "4          True    no   True  \n",
      "..          ...   ...    ...  \n",
      "886        True    no   True  \n",
      "887       False   yes   True  \n",
      "888       False    no  False  \n",
      "889        True   yes   True  \n",
      "890        True    no   True  \n",
      "\n",
      "[891 rows x 11 columns]\n",
      "now there 're only 11 columns left.\n"
     ]
    }
   ],
   "source": [
    "#Question 7\n",
    "\n",
    "#1. I might want to remove ALL columns that contains any missing data, rather than just one. in this case:\n",
    "df.dropna(axis=1,inplace=True)\n",
    "print(df)\n",
    "print(\"now there 're only 11 columns left.\")"
   ]
  },
  {
   "cell_type": "code",
   "execution_count": 15,
   "id": "68b771a0",
   "metadata": {},
   "outputs": [
    {
     "name": "stdout",
     "output_type": "stream",
     "text": [
      "     survived     sex   age  sibsp  parch     fare embarked   class    who  \\\n",
      "0           0    male  22.0      1      0   7.2500        S   Third    man   \n",
      "1           1  female  38.0      1      0  71.2833        C   First  woman   \n",
      "2           1  female  26.0      0      0   7.9250        S   Third  woman   \n",
      "3           1  female  35.0      1      0  53.1000        S   First  woman   \n",
      "4           0    male  35.0      0      0   8.0500        S   Third    man   \n",
      "..        ...     ...   ...    ...    ...      ...      ...     ...    ...   \n",
      "886         0    male  27.0      0      0  13.0000        S  Second    man   \n",
      "887         1  female  19.0      0      0  30.0000        S   First  woman   \n",
      "888         0  female   NaN      1      2  23.4500        S   Third  woman   \n",
      "889         1    male  26.0      0      0  30.0000        C   First    man   \n",
      "890         0    male  32.0      0      0   7.7500        Q   Third    man   \n",
      "\n",
      "    deck  embark_town alive  alone  \n",
      "0    NaN  Southampton    no  False  \n",
      "1      C    Cherbourg   yes  False  \n",
      "2    NaN  Southampton   yes   True  \n",
      "3      C  Southampton   yes  False  \n",
      "4    NaN  Southampton    no   True  \n",
      "..   ...          ...   ...    ...  \n",
      "886  NaN  Southampton    no   True  \n",
      "887    B  Southampton   yes   True  \n",
      "888  NaN  Southampton    no  False  \n",
      "889    C    Cherbourg   yes   True  \n",
      "890  NaN   Queenstown    no   True  \n",
      "\n",
      "[891 rows x 13 columns]\n"
     ]
    }
   ],
   "source": [
    "#2. I would like to drop 2 columns specifically \"pclass\" and \"adult_male\" because:\n",
    "#column \"class\" and \"pclass\" mean literally the same thing. \n",
    "#the boolean column \"adult_male\" is pointless since there's already a \"sex\" column\n",
    "#Therefore I go:\n",
    "df=p.read_csv(url)\n",
    "del df['pclass']\n",
    "del df['adult_male']\n",
    "print (df)"
   ]
  },
  {
   "cell_type": "code",
   "execution_count": 16,
   "id": "d8ae7b36",
   "metadata": {},
   "outputs": [
    {
     "name": "stdout",
     "output_type": "stream",
     "text": [
      "survived         0\n",
      "sex              0\n",
      "age            177\n",
      "sibsp            0\n",
      "parch            0\n",
      "fare             0\n",
      "embarked         2\n",
      "class            0\n",
      "who              0\n",
      "deck           688\n",
      "embark_town      2\n",
      "alive            0\n",
      "alone            0\n",
      "dtype: int64\n",
      "For this dataset, it's 'age' and 'deck'\n",
      "     survived     sex  sibsp  parch     fare embarked   class    who  \\\n",
      "0           0    male      1      0   7.2500        S   Third    man   \n",
      "1           1  female      1      0  71.2833        C   First  woman   \n",
      "2           1  female      0      0   7.9250        S   Third  woman   \n",
      "3           1  female      1      0  53.1000        S   First  woman   \n",
      "4           0    male      0      0   8.0500        S   Third    man   \n",
      "..        ...     ...    ...    ...      ...      ...     ...    ...   \n",
      "886         0    male      0      0  13.0000        S  Second    man   \n",
      "887         1  female      0      0  30.0000        S   First  woman   \n",
      "888         0  female      1      2  23.4500        S   Third  woman   \n",
      "889         1    male      0      0  30.0000        C   First    man   \n",
      "890         0    male      0      0   7.7500        Q   Third    man   \n",
      "\n",
      "     embark_town alive  alone  \n",
      "0    Southampton    no  False  \n",
      "1      Cherbourg   yes  False  \n",
      "2    Southampton   yes   True  \n",
      "3    Southampton   yes  False  \n",
      "4    Southampton    no   True  \n",
      "..           ...   ...    ...  \n",
      "886  Southampton    no   True  \n",
      "887  Southampton   yes   True  \n",
      "888  Southampton    no  False  \n",
      "889    Cherbourg   yes   True  \n",
      "890   Queenstown    no   True  \n",
      "\n",
      "[889 rows x 11 columns]\n"
     ]
    }
   ],
   "source": [
    "#3.\n",
    "#Some columns may contain wayyyy too much missing data to be useful to our analysis.\n",
    "#So by identifying these columns and applying del df['col'] on them\n",
    "#We can minimize the number of rows dropped when applying df.dropna().\n",
    "#This helps avoid unintentionally removing more data than necessary.\n",
    "\n",
    "print(df.isna().sum())\n",
    "\n",
    "print(\"For this dataset, it's 'age' and 'deck'\")\n",
    "del df['age']\n",
    "del df['deck']\n",
    "df.dropna(inplace=True)\n",
    "print(df)\n",
    "#there."
   ]
  },
  {
   "cell_type": "code",
   "execution_count": 17,
   "id": "5a5dd29c",
   "metadata": {},
   "outputs": [
    {
     "name": "stdout",
     "output_type": "stream",
     "text": [
      "(891, 15)\n",
      "survived         0\n",
      "pclass           0\n",
      "sex              0\n",
      "age            177\n",
      "sibsp            0\n",
      "parch            0\n",
      "fare             0\n",
      "embarked         2\n",
      "class            0\n",
      "who              0\n",
      "adult_male       0\n",
      "deck           688\n",
      "embark_town      2\n",
      "alive            0\n",
      "alone            0\n",
      "dtype: int64\n"
     ]
    }
   ],
   "source": [
    "#4. the question asked to most efficiently use the available non-missing data. \n",
    "#therefore I belive I should retain as much non-missing data as possible when removing values.\n",
    "#Let's first take a look at the missing data:\n",
    "df=p.read_csv(url)\n",
    "print(df.shape)\n",
    "print(df.isna().sum())"
   ]
  },
  {
   "cell_type": "code",
   "execution_count": 18,
   "id": "03360d3c",
   "metadata": {},
   "outputs": [
    {
     "name": "stdout",
     "output_type": "stream",
     "text": [
      "For 'age', I lose 2478 non-missing values when removing rows missing this variable,and lose 714 non-missing values when removing this column\n",
      "For 'embarked'and'embark_town', I lose 28 non-missing values when removing rows missing this variable,and lose 889 non-missing values when removing this column\n",
      "For 'deck', I lose 9632 non-missing values when removing rows missing this variable,and lose 203 non-missing values when removing this column\n"
     ]
    }
   ],
   "source": [
    "print(\"For 'age', I lose\",177*15-177,\"non-missing values when removing rows missing this variable,and lose\",891-177,\"non-missing values when removing this column\")\n",
    "print(\"For 'embarked'and'embark_town', I lose\",2*15-2,\"non-missing values when removing rows missing this variable,and lose\",891-2,\"non-missing values when removing this column\")\n",
    "print(\"For 'deck', I lose\",688*15-688,\"non-missing values when removing rows missing this variable,and lose\",891-688,\"non-missing values when removing this column\")"
   ]
  },
  {
   "cell_type": "code",
   "execution_count": 19,
   "id": "f6b1af9f",
   "metadata": {
    "scrolled": true
   },
   "outputs": [
    {
     "name": "stdout",
     "output_type": "stream",
     "text": [
      "before\n",
      "     survived  pclass     sex   age  sibsp  parch     fare embarked   class  \\\n",
      "0           0       3    male  22.0      1      0   7.2500        S   Third   \n",
      "1           1       1  female  38.0      1      0  71.2833        C   First   \n",
      "2           1       3  female  26.0      0      0   7.9250        S   Third   \n",
      "3           1       1  female  35.0      1      0  53.1000        S   First   \n",
      "4           0       3    male  35.0      0      0   8.0500        S   Third   \n",
      "..        ...     ...     ...   ...    ...    ...      ...      ...     ...   \n",
      "886         0       2    male  27.0      0      0  13.0000        S  Second   \n",
      "887         1       1  female  19.0      0      0  30.0000        S   First   \n",
      "888         0       3  female   NaN      1      2  23.4500        S   Third   \n",
      "889         1       1    male  26.0      0      0  30.0000        C   First   \n",
      "890         0       3    male  32.0      0      0   7.7500        Q   Third   \n",
      "\n",
      "       who  adult_male deck  embark_town alive  alone  \n",
      "0      man        True  NaN  Southampton    no  False  \n",
      "1    woman       False    C    Cherbourg   yes  False  \n",
      "2    woman       False  NaN  Southampton   yes   True  \n",
      "3    woman       False    C  Southampton   yes  False  \n",
      "4      man        True  NaN  Southampton    no   True  \n",
      "..     ...         ...  ...          ...   ...    ...  \n",
      "886    man        True  NaN  Southampton    no   True  \n",
      "887  woman       False    B  Southampton   yes   True  \n",
      "888  woman       False  NaN  Southampton    no  False  \n",
      "889    man        True    C    Cherbourg   yes   True  \n",
      "890    man        True  NaN   Queenstown    no   True  \n",
      "\n",
      "[891 rows x 15 columns]\n",
      "\n",
      "after\n",
      "     survived  pclass     sex  sibsp  parch     fare embarked   class    who  \\\n",
      "0           0       3    male      1      0   7.2500        S   Third    man   \n",
      "1           1       1  female      1      0  71.2833        C   First  woman   \n",
      "2           1       3  female      0      0   7.9250        S   Third  woman   \n",
      "3           1       1  female      1      0  53.1000        S   First  woman   \n",
      "4           0       3    male      0      0   8.0500        S   Third    man   \n",
      "..        ...     ...     ...    ...    ...      ...      ...     ...    ...   \n",
      "886         0       2    male      0      0  13.0000        S  Second    man   \n",
      "887         1       1  female      0      0  30.0000        S   First  woman   \n",
      "888         0       3  female      1      2  23.4500        S   Third  woman   \n",
      "889         1       1    male      0      0  30.0000        C   First    man   \n",
      "890         0       3    male      0      0   7.7500        Q   Third    man   \n",
      "\n",
      "     adult_male  embark_town alive  alone  \n",
      "0          True  Southampton    no  False  \n",
      "1         False    Cherbourg   yes  False  \n",
      "2         False  Southampton   yes   True  \n",
      "3         False  Southampton   yes  False  \n",
      "4          True  Southampton    no   True  \n",
      "..          ...          ...   ...    ...  \n",
      "886        True  Southampton    no   True  \n",
      "887       False  Southampton   yes   True  \n",
      "888       False  Southampton    no  False  \n",
      "889        True    Cherbourg   yes   True  \n",
      "890        True   Queenstown    no   True  \n",
      "\n",
      "[889 rows x 13 columns]\n"
     ]
    }
   ],
   "source": [
    "#so its reasonable to remove the column of \"age\" and \"deck\",while removing rows with missing data in 'embarked'and'embark_town'.\n",
    "print('before')\n",
    "print(df)\n",
    "del df['age']\n",
    "del df['deck']\n",
    "df.dropna(inplace=True)\n",
    "print('')\n",
    "print('after')\n",
    "print(df)"
   ]
  },
  {
   "cell_type": "code",
   "execution_count": 20,
   "id": "570acae4",
   "metadata": {},
   "outputs": [
    {
     "name": "stdout",
     "output_type": "stream",
     "text": [
      "ChatGPT's summary:In this chat, we discussed handling missing data, focusing on when to use df.dropna() versus del df['col']. I provided examples, explaining that df.dropna() is useful for removing rows with missing values while keeping most columns, whereas del df['col'] is better when a column has many missing values and is not relevant to the analysis. We also covered the importance of deleting irrelevant columns before applying df.dropna() to avoid excessive row loss. You encountered a syntax error with del df('pclass'), and I clarified that the correct syntax is del df['pclass']. Additionally, I rephrased your sentence about removing irrelevant columns and corrected a grammatical issue in another sentence, revising it for clarity and correctness.\n"
     ]
    }
   ],
   "source": [
    "#For Q7: https://chatgpt.com/share/76aa95b5-2351-4eb9-8133-bd3dbdf34b29\n",
    "print(\"ChatGPT's summary:In this chat, we discussed handling missing data, focusing on when to use df.dropna() versus del df['col']. I provided examples, explaining that df.dropna() is useful for removing rows with missing values while keeping most columns, whereas del df['col'] is better when a column has many missing values and is not relevant to the analysis. We also covered the importance of deleting irrelevant columns before applying df.dropna() to avoid excessive row loss. You encountered a syntax error with del df('pclass'), and I clarified that the correct syntax is del df['pclass']. Additionally, I rephrased your sentence about removing irrelevant columns and corrected a grammatical issue in another sentence, revising it for clarity and correctness.\")"
   ]
  },
  {
   "cell_type": "code",
   "execution_count": 21,
   "id": "f5930c59",
   "metadata": {},
   "outputs": [],
   "source": [
    "#Question 8\n",
    "df=p.read_csv(url)"
   ]
  },
  {
   "cell_type": "code",
   "execution_count": 22,
   "id": "1d9a5a44",
   "metadata": {},
   "outputs": [
    {
     "data": {
      "text/html": [
       "<div>\n",
       "<style scoped>\n",
       "    .dataframe tbody tr th:only-of-type {\n",
       "        vertical-align: middle;\n",
       "    }\n",
       "\n",
       "    .dataframe tbody tr th {\n",
       "        vertical-align: top;\n",
       "    }\n",
       "\n",
       "    .dataframe thead th {\n",
       "        text-align: right;\n",
       "    }\n",
       "</style>\n",
       "<table border=\"1\" class=\"dataframe\">\n",
       "  <thead>\n",
       "    <tr style=\"text-align: right;\">\n",
       "      <th></th>\n",
       "      <th>count</th>\n",
       "      <th>mean</th>\n",
       "      <th>std</th>\n",
       "      <th>min</th>\n",
       "      <th>25%</th>\n",
       "      <th>50%</th>\n",
       "      <th>75%</th>\n",
       "      <th>max</th>\n",
       "    </tr>\n",
       "    <tr>\n",
       "      <th>embark_town</th>\n",
       "      <th></th>\n",
       "      <th></th>\n",
       "      <th></th>\n",
       "      <th></th>\n",
       "      <th></th>\n",
       "      <th></th>\n",
       "      <th></th>\n",
       "      <th></th>\n",
       "    </tr>\n",
       "  </thead>\n",
       "  <tbody>\n",
       "    <tr>\n",
       "      <th>Cherbourg</th>\n",
       "      <td>130.0</td>\n",
       "      <td>30.814769</td>\n",
       "      <td>15.434860</td>\n",
       "      <td>0.42</td>\n",
       "      <td>21.25</td>\n",
       "      <td>29.0</td>\n",
       "      <td>40.0</td>\n",
       "      <td>71.0</td>\n",
       "    </tr>\n",
       "    <tr>\n",
       "      <th>Queenstown</th>\n",
       "      <td>28.0</td>\n",
       "      <td>28.089286</td>\n",
       "      <td>16.915396</td>\n",
       "      <td>2.00</td>\n",
       "      <td>17.50</td>\n",
       "      <td>27.0</td>\n",
       "      <td>34.5</td>\n",
       "      <td>70.5</td>\n",
       "    </tr>\n",
       "    <tr>\n",
       "      <th>Southampton</th>\n",
       "      <td>554.0</td>\n",
       "      <td>29.445397</td>\n",
       "      <td>14.143192</td>\n",
       "      <td>0.67</td>\n",
       "      <td>21.00</td>\n",
       "      <td>28.0</td>\n",
       "      <td>38.0</td>\n",
       "      <td>80.0</td>\n",
       "    </tr>\n",
       "  </tbody>\n",
       "</table>\n",
       "</div>"
      ],
      "text/plain": [
       "             count       mean        std   min    25%   50%   75%   max\n",
       "embark_town                                                            \n",
       "Cherbourg    130.0  30.814769  15.434860  0.42  21.25  29.0  40.0  71.0\n",
       "Queenstown    28.0  28.089286  16.915396  2.00  17.50  27.0  34.5  70.5\n",
       "Southampton  554.0  29.445397  14.143192  0.67  21.00  28.0  38.0  80.0"
      ]
     },
     "execution_count": 22,
     "metadata": {},
     "output_type": "execute_result"
    }
   ],
   "source": [
    "#1.\n",
    "df.groupby(\"embark_town\")[\"age\"].describe()\n",
    "#.groupby('col1') combines raw data into groups based on common values for some variable. \n",
    "#['col2']than selects the column 'col2' from the combined DataFrame.\n",
    "#finnally, Computes summary statistics (count, mean, std, min, 25%, 50%, 75%, max) for col2 within each group.\n",
    "#For this example, .groupby(\"embark_town\") groups the survivors by the town from which they embarked.\n",
    "#[\"age\"] selects their age for later processing. \n",
    "#.decribe() provides an statistical analysis of the age demographics of the survivors embarked from each town."
   ]
  },
  {
   "cell_type": "code",
   "execution_count": 23,
   "id": "39415ab8",
   "metadata": {},
   "outputs": [
    {
     "name": "stdout",
     "output_type": "stream",
     "text": [
      "         survived      pclass         age       sibsp       parch        fare\n",
      "count  891.000000  891.000000  714.000000  891.000000  891.000000  891.000000\n",
      "mean     0.383838    2.308642   29.699118    0.523008    0.381594   32.204208\n",
      "std      0.486592    0.836071   14.526497    1.102743    0.806057   49.693429\n",
      "min      0.000000    1.000000    0.420000    0.000000    0.000000    0.000000\n",
      "25%      0.000000    2.000000   20.125000    0.000000    0.000000    7.910400\n",
      "50%      0.000000    3.000000   28.000000    0.000000    0.000000   14.454200\n",
      "75%      1.000000    3.000000   38.000000    1.000000    0.000000   31.000000\n",
      "max      1.000000    3.000000   80.000000    8.000000    6.000000  512.329200\n",
      "\n",
      "             count       mean        std   min    25%   50%   75%   max\n",
      "embark_town                                                            \n",
      "Cherbourg    130.0  30.814769  15.434860  0.42  21.25  29.0  40.0  71.0\n",
      "Queenstown    28.0  28.089286  16.915396  2.00  17.50  27.0  34.5  70.5\n",
      "Southampton  554.0  29.445397  14.143192  0.67  21.00  28.0  38.0  80.0\n",
      "\n",
      "df.describe() shows the count of non-missing values for each column, providing a quick overview of data completeness and helping identify columns with significant missing data.\n",
      "\n",
      "df.groupby('embark_town')['age'].describe() shows the count of non-missing age values within each group defined by 'embark_town'.\n",
      "\n",
      "The primary function of count in conjunction with groupby is to summarize the distribution of non-missing values across groups, rather than just assessing overall data completenes\n"
     ]
    }
   ],
   "source": [
    "#2.\n",
    "print(df.describe())\n",
    "print('')\n",
    "print(df.groupby(\"embark_town\")[\"age\"].describe())\n",
    "print('')\n",
    "print(\"df.describe() shows the count of non-missing values for each column, providing a quick overview of data completeness and helping identify columns with significant missing data.\")\n",
    "print('')\n",
    "print(\"df.groupby('embark_town')['age'].describe() shows the count of non-missing age values within each group defined by 'embark_town'.\")\n",
    "print('')\n",
    "print('The primary function of count in conjunction with groupby is to summarize the distribution of non-missing values across groups, rather than just assessing overall data completenes')"
   ]
  },
  {
   "cell_type": "code",
   "execution_count": 24,
   "id": "52a49fe3",
   "metadata": {},
   "outputs": [],
   "source": [
    "#3."
   ]
  },
  {
   "cell_type": "markdown",
   "id": "773e8a64",
   "metadata": {},
   "source": [
    "A.\n",
    "ChatGPT's response:\n",
    "\"The error NameError: name 'p' is not defined occurs because you haven't imported the pandas library with the alias p.\n",
    "Make sure you include the following line at the beginning of your script:\n",
    "import pandas as p\n",
    "This imports pandas using the alias p, as per your preference. Once you add this, the error should be resolved.\"\n",
    "First title i see on google:\n",
    "\"You will encounter this error because the import cell is not being executed. Make sure to toggle it to code and execute that block again.\"\n",
    "ChatGPT's trouble shooting was more accurate, as well as direct and beginner-friendly.\n",
    "\n",
    "B.\n",
    "ChatGPT:\n",
    "\"The error HTTPError: HTTP Error 404: Not Found means that the URL you're trying to access does not exist or is incorrect. In your case, if you're working with a dataset, it's possible that the URL is incorrect or the file has been moved or deleted from the server.\"\n",
    "First solution on Google:\n",
    "\"This code will catch the 404 error which was the reason you got an error and ignore it just in case you go out of the range.\"\n",
    "Only GPT addressed the problem accurately. Google was less than helpful. I don't even know what it was talking about\n",
    "\n",
    "C.\n",
    "ChatGPT:\n",
    "The NameError: name 'DF' is not defined error suggests that you're trying to use a variable named DF that hasn't been defined in your script. In Python, variable names are case-sensitive, and the typical convention is to use lowercase letters (e.g., df instead of DF).\n",
    "If you're following standard practice and using df for the DataFrame, make sure that the variable is correctly named and defined before using it. Here's an example:\n",
    "Correct Usage:\n",
    "import pandas as p\n",
    "url = \"https://raw.githubusercontent.com/mwaskom/seaborn-data/master/titanic.csv\"\n",
    "df = p.read_csv(url)\n",
    "print(df.head())\n",
    "\n",
    "Google:\n",
    "\"df is declared in your function func_nb() it does not exists outside of it, you will need to add a return to the function and call it.\"\n",
    "\"The df name error usually occurs when you try to use a DataFrame object df before it has been defined. \"\n",
    "\n",
    "GPT wins since I got a more direct walkthrough solving the problem.\n",
    "\n",
    "\n",
    "D:GPT told me to include a closing parenthesis straightaway while the first answer on Google is talking something about reinstalling the crontab package. GPT wins.\n",
    "    \n",
    "E: GPT answered rightway that I need to use \"describe\" instead of \"describle\" Google, came up with attribute arror for \"Numbers\". GPT wins\n",
    "    \n",
    "F: Same as before. GPT identified the misppelled column name rightaway while google didn't offer anythig useful at first glance.\n",
    "    \n",
    "G: GPT was still as helpful. it immediately identified the issue, replying: The NameError: name 'age' is not defined means you're trying to use age as a variable or column, but it hasn't been defined or referenced correctly. In the context of a DataFrame like the Titanic dataset, age should be referenced as a column.\n",
    "\n",
    "So far GPT hasn't disappointed me yet. It's on fire\n"
   ]
  },
  {
   "cell_type": "markdown",
   "id": "2662d316",
   "metadata": {},
   "source": [
    "For Question 8: https://chatgpt.com/share/14de9bf7-2fba-4488-aebd-4a82bdc050b4\n",
    "        \n",
    "Summary:\n",
    "    \n",
    "Data Analysis on Titanic Dataset:\n",
    "\n",
    "You are working on the Titanic dataset from the URL https://raw.githubusercontent.com/mwaskom/seaborn-data/master/titanic.csv, and performing initial summary analyses, particularly focusing on handling missing data and group-based summaries.\n",
    "Understanding .groupby() and .describe():\n",
    "\n",
    "You explored how df.groupby(\"col1\")[\"col2\"].describe() works by performing this analysis on the Titanic dataset. We discussed how groupby summarizes data within groups and how it handles missing values.\n",
    "You were trying to understand the difference between global summary statistics (df.describe()) and group-based statistics (df.groupby(\"col1\")[\"col2\"].describe()), focusing on how count is handled differently in each case.\n",
    "Clarification on Errors:\n",
    "\n",
    "Several common Python errors were resolved, including:\n",
    "NameError: name 'p' is not defined due to missing the import statement (import pandas as p).\n",
    "HTTPError: HTTP Error 404 related to an incorrect or unavailable URL.\n",
    "NameError: name 'DF' is not defined due to case sensitivity (df vs. DF).\n",
    "SyntaxError: '(' was never closed was addressed by ensuring correct use of parentheses in code.\n",
    "Typo in method name (.describle() instead of .describe()).\n",
    "NameError: name 'age' is not defined, which required correctly referencing the column df['age'].\n",
    "Interpreting the Homework Question:\n",
    "\n",
    "You were interpreting a homework question that asked why df.describe() and df.groupby('col1')['col2'].describe() give fundamentally different count values.\n",
    "We explored how df.describe() gives a global summary of non-missing values across the entire dataset, while df.groupby('col1')['col2'].describe() summarizes data within each group, excluding missing values within each group.\n",
    "Final Comparisons:\n",
    "\n",
    "We discussed how df.describe() gives a sense of overall data completeness, while df.groupby().describe() provides insight into data distribution across groups, which has a different function beyond handling missing values.\n",
    "This covers your key questions and the technical errors you encountered, focusing on the distinctions between global and grouped summary statistics, error resolution, and correct referencing of DataFrame columns."
   ]
  },
  {
   "cell_type": "code",
   "execution_count": 25,
   "id": "4664e588",
   "metadata": {},
   "outputs": [],
   "source": [
    "#Question 9: Yeah"
   ]
  }
 ],
 "metadata": {
  "kernelspec": {
   "display_name": "Python 3 (ipykernel)",
   "language": "python",
   "name": "python3"
  },
  "language_info": {
   "codemirror_mode": {
    "name": "ipython",
    "version": 3
   },
   "file_extension": ".py",
   "mimetype": "text/x-python",
   "name": "python",
   "nbconvert_exporter": "python",
   "pygments_lexer": "ipython3",
   "version": "3.11.6"
  }
 },
 "nbformat": 4,
 "nbformat_minor": 5
}
