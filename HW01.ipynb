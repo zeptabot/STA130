{
 "cells": [
  {
   "cell_type": "code",
   "execution_count": null,
   "id": "109ea0b7",
   "metadata": {},
   "outputs": [],
   "source": [
    "#Question 1\n",
    "\n",
    "import pandas as p\n"
   ]
  },
  {
   "cell_type": "code",
   "execution_count": null,
   "id": "e1b30728",
   "metadata": {},
   "outputs": [],
   "source": [
    "url=\"https://raw.githubusercontent.com/mwaskom/seaborn-data/master/titanic.csv\"\n",
    "df=p.read_csv(url)\n",
    "df.head"
   ]
  },
  {
   "cell_type": "code",
   "execution_count": null,
   "id": "e4cdc5bb",
   "metadata": {},
   "outputs": [],
   "source": [
    "print(df.isna().sum())\n",
    "print(df.isna().sum(axis=1))"
   ]
  },
  {
   "cell_type": "code",
   "execution_count": null,
   "id": "c50e9f27",
   "metadata": {},
   "outputs": [],
   "source": [
    "#For Q1:https://chatgpt.com/share/70c1eed7-79ff-44b7-9aef-77f69212df3f"
   ]
  },
  {
   "cell_type": "code",
   "execution_count": null,
   "id": "3a3e734d",
   "metadata": {},
   "outputs": [],
   "source": [
    "#Question 2\n",
    "\n",
    "print(df.shape)\n",
    "#Variables are properties that can be measured, like color,age,taste,size,etc.\n",
    "#Observations are ENTITIES from which multiple variables are collected so we could understand them better.\n",
    "#In a pandas dataframe, observsations're often ROWS while variables are columns"
   ]
  },
  {
   "cell_type": "code",
   "execution_count": null,
   "id": "e896dd47",
   "metadata": {},
   "outputs": [],
   "source": [
    "#Question 3\n",
    "\n",
    "# Summary for numerical columns\n",
    "numerical_summary = df[['age', 'fare']].describe()\n",
    "\n",
    "# Summary for categorical columns (using 'sex' and 'class' as examples)\n",
    "categorical_summary_sex = df['sex'].value_counts()\n",
    "categorical_summary_class = df['class'].value_counts()\n",
    "\n",
    "# Display the summaries\n",
    "print(\"Numerical Summary:\")\n",
    "print(numerical_summary)\n",
    "\n",
    "print(\"\\nCategorical Summary (Sex):\")\n",
    "print(categorical_summary_sex)\n",
    "\n",
    "print(\"\\nCategorical Summary (Class):\")\n",
    "print(categorical_summary_class)"
   ]
  },
  {
   "cell_type": "code",
   "execution_count": null,
   "id": "819fe682",
   "metadata": {},
   "outputs": [],
   "source": [
    "#For Q2 Q3: https://chatgpt.com/share/ca72ba99-562f-41d2-a4fd-cef07d55105f"
   ]
  },
  {
   "cell_type": "code",
   "execution_count": null,
   "id": "3f104316",
   "metadata": {},
   "outputs": [],
   "source": [
    "#Question 4:\n",
    "print(df.describe())\n",
    "print(df.describe().shape)\n",
    "print (df.shape)"
   ]
  },
  {
   "cell_type": "code",
   "execution_count": null,
   "id": "c67ae8c5",
   "metadata": {},
   "outputs": [],
   "source": [
    "#The first Discrepancy: df.shape shows 15 columns while df.describe() shows 6.\n",
    "#cuz only 6 out of 15 columns contains numerical data and are therefore processed by the .describe() method.\n",
    "#2nd discrepancy: column \"age\" has \"count\" value lower than the total number of rows in the dataset (df.shape).\n",
    "#this is because it has missing numeric values and arwe therefore not all counted."
   ]
  },
  {
   "cell_type": "code",
   "execution_count": null,
   "id": "4e2323c3",
   "metadata": {},
   "outputs": [],
   "source": [
    "#Question 5\n",
    "#An attribute is essentially an associated data that comes with the data set itself. \n",
    "    #'df.attribute' simply displays it and doesnt do anything. \n",
    "#A method, however, is essentially a function that performs some kind of action on the dataframe, such as a calculation.\n",
    "    #Therefore, it has a specific ouput."
   ]
  },
  {
   "cell_type": "code",
   "execution_count": null,
   "id": "c215bc56",
   "metadata": {},
   "outputs": [],
   "source": [
    "#For Q4 Q5: https://chatgpt.com/share/66510391-7b81-4da2-957c-2f819a364c25\n",
    "print(\"Here's a summary of our conversations: In our conversations, we discussed the distinction between attributes and methods in programming. Attributes are properties associated with an object, such as df.shape, which directly shows the stored data without performing any actions. Methods, on the other hand, are functions that perform operations or calculations on an object and produce outputs, like df.describe(), which provides a statistical summary. We also explored discrepancies between df.shape and df.describe(), noting that df.shape shows the total dimensions of a DataFrame, while df.describe() only includes numeric columns and their summary statistics. Additionally, we touched on the difference between programming functions, which perform tasks and return results, and mathematical functions, which define relationships between inputs and outputs.\")\n",
    "\n",
    "#My free trial of GPT-4o (the paid model) stopped when I was in the middle of Question4 so I had to start a different chat.\n",
    "#Therefore, My summary of chat was unable include Question 2 and 3. However you can still read the chat via link\n",
    "#Please don't mark me down for this thx"
   ]
  },
  {
   "cell_type": "code",
   "execution_count": null,
   "id": "26b69a50",
   "metadata": {},
   "outputs": [],
   "source": [
    "#Question 6\n",
    "\n",
    "#count: the number of non-missing values in this column.\n",
    "#mean: the sum of all non-missing values divided by their 'count'.\n",
    "#std: the square root of variance. It measures the spread of non-missing data around the mean in the column. \n",
    "#min: the smallest non-missing value in the column\n",
    "#25%: This is the value that separates the lowest 25% of the non-missing data in the column from the rest\n",
    "#50%: This is the value that separates the lower 50% of the non-missing data in the column from the rest. Also called the median.\n",
    "#75%: The value that separates the lowest 75% of the non-missing data from the highest 25%\n",
    "#max: The largest non-missing value present in the column"
   ]
  },
  {
   "cell_type": "code",
   "execution_count": null,
   "id": "32bc34cf",
   "metadata": {},
   "outputs": [],
   "source": [
    "#For Q6: https://chatgpt.com/share/a027878a-8437-4e7b-8a72-01aeb50abb74\n",
    "print(\"ChatBot Summary: In this conversation, we discussed the summary statistics provided by df.describe(), including how they handle missing data. We then reviewed the standard deviation formula and provided a concise, one-sentence explanation. Additionally, we clarified that 'average squared deviations from the mean' is equivalent to the variance. Lastly, we explored a use case where df.dropna() is preferred over del df['col'], highlighting how df.dropna() allows for selective row removal based on missing values without losing entire columns\")"
   ]
  },
  {
   "cell_type": "code",
   "execution_count": null,
   "id": "450014bd",
   "metadata": {},
   "outputs": [],
   "source": [
    "#Question 7\n",
    "\n",
    "#1. I might want to remove ALL columns that contains any missing data, rather than just one. in this case:\n",
    "df.dropna(axis=1,inplace=True)\n",
    "print(df)\n",
    "print(\"now there 're only 11 columns left.\")"
   ]
  },
  {
   "cell_type": "code",
   "execution_count": null,
   "id": "68b771a0",
   "metadata": {},
   "outputs": [],
   "source": [
    "#2. I would like to drop 2 columns specifically \"pclass\" and \"adult_male\" because:\n",
    "#column \"class\" and \"pclass\" mean literally the same thing. \n",
    "#the boolean column \"adult_male\" is pointless since there's already a \"sex\" column\n",
    "#Therefore I go:\n",
    "df=p.read_csv(url)\n",
    "del df['pclass']\n",
    "del df['adult_male']\n",
    "print (df)"
   ]
  },
  {
   "cell_type": "code",
   "execution_count": null,
   "id": "d8ae7b36",
   "metadata": {},
   "outputs": [],
   "source": [
    "#3.\n",
    "#Some columns may contain wayyyy too much missing data to be useful to our analysis.\n",
    "#So by identifying these columns and applying del df['col'] on them\n",
    "#We can minimize the number of rows dropped when applying df.dropna().\n",
    "#This helps avoid unintentionally removing more data than necessary.\n",
    "\n",
    "print(df.isna().sum())\n",
    "\n",
    "print(\"For this dataset, it's 'age' and 'deck'\")\n",
    "del df['age']\n",
    "del df['deck']\n",
    "df.dropna(inplace=True)\n",
    "print(df)\n",
    "#there."
   ]
  },
  {
   "cell_type": "code",
   "execution_count": null,
   "id": "5a5dd29c",
   "metadata": {},
   "outputs": [],
   "source": [
    "#4. the question asked to most efficiently use the available non-missing data. \n",
    "#therefore I belive I should retain as much non-missing data as possible when removing values.\n",
    "#Let's first take a look at the missing data:\n",
    "df=p.read_csv(url)\n",
    "print(df.shape)\n",
    "print(df.isna().sum())"
   ]
  },
  {
   "cell_type": "code",
   "execution_count": null,
   "id": "03360d3c",
   "metadata": {},
   "outputs": [],
   "source": [
    "print(\"For 'age', I lose\",177*15-177,\"non-missing values when removing rows missing this variable,and lose\",891-177,\"non-missing values when removing this column\")\n",
    "print(\"For 'embarked'and'embark_town', I lose\",2*15-2,\"non-missing values when removing rows missing this variable,and lose\",891-2,\"non-missing values when removing this column\")\n",
    "print(\"For 'deck', I lose\",688*15-688,\"non-missing values when removing rows missing this variable,and lose\",891-688,\"non-missing values when removing this column\")"
   ]
  },
  {
   "cell_type": "code",
   "execution_count": null,
   "id": "f6b1af9f",
   "metadata": {
    "scrolled": true
   },
   "outputs": [],
   "source": [
    "#so its reasonable to remove the column of \"age\" and \"deck\",while removing rows with missing data in 'embarked'and'embark_town'.\n",
    "print('before')\n",
    "print(df)\n",
    "del df['age']\n",
    "del df['deck']\n",
    "df.dropna(inplace=True)\n",
    "print('')\n",
    "print('after')\n",
    "print(df)"
   ]
  },
  {
   "cell_type": "code",
   "execution_count": null,
   "id": "570acae4",
   "metadata": {},
   "outputs": [],
   "source": [
    "#For Q7: https://chatgpt.com/share/76aa95b5-2351-4eb9-8133-bd3dbdf34b29\n",
    "print(\"ChatGPT's summary:In this chat, we discussed handling missing data, focusing on when to use df.dropna() versus del df['col']. I provided examples, explaining that df.dropna() is useful for removing rows with missing values while keeping most columns, whereas del df['col'] is better when a column has many missing values and is not relevant to the analysis. We also covered the importance of deleting irrelevant columns before applying df.dropna() to avoid excessive row loss. You encountered a syntax error with del df('pclass'), and I clarified that the correct syntax is del df['pclass']. Additionally, I rephrased your sentence about removing irrelevant columns and corrected a grammatical issue in another sentence, revising it for clarity and correctness.\")"
   ]
  },
  {
   "cell_type": "code",
   "execution_count": null,
   "id": "f5930c59",
   "metadata": {},
   "outputs": [],
   "source": [
    "#Question 8\n",
    "df=p.read_csv(url)"
   ]
  },
  {
   "cell_type": "code",
   "execution_count": null,
   "id": "1d9a5a44",
   "metadata": {},
   "outputs": [],
   "source": [
    "#1.\n",
    "df.groupby(\"embark_town\")[\"age\"].describe()\n",
    "#.groupby('col1') combines raw data into groups based on common values for some variable. \n",
    "#['col2']than selects the column 'col2' from the combined DataFrame.\n",
    "#finnally, Computes summary statistics (count, mean, std, min, 25%, 50%, 75%, max) for col2 within each group.\n",
    "#For this example, .groupby(\"embark_town\") groups the survivors by the town from which they embarked.\n",
    "#[\"age\"] selects their age for later processing. \n",
    "#.decribe() provides an statistical analysis of the age demographics of the survivors embarked from each town."
   ]
  },
  {
   "cell_type": "code",
   "execution_count": null,
   "id": "39415ab8",
   "metadata": {},
   "outputs": [],
   "source": [
    "#2.\n",
    "print(df.describe())\n",
    "print('')\n",
    "print(df.groupby(\"embark_town\")[\"age\"].describe())\n",
    "print('')\n",
    "print(\"df.describe() shows the count of non-missing values for each column, providing a quick overview of data completeness and helping identify columns with significant missing data.\")\n",
    "print('')\n",
    "print(\"df.groupby('embark_town')['age'].describe() shows the count of non-missing age values within each group defined by 'embark_town'.\")\n",
    "print('')\n",
    "print('The primary function of count in conjunction with groupby is to summarize the distribution of non-missing values across groups, rather than just assessing overall data completenes')"
   ]
  },
  {
   "cell_type": "code",
   "execution_count": null,
   "id": "52a49fe3",
   "metadata": {},
   "outputs": [],
   "source": [
    "#3."
   ]
  },
  {
   "cell_type": "code",
   "execution_count": null,
   "id": "7ade9f0e",
   "metadata": {},
   "outputs": [],
   "source": [
    "A.\n",
    "ChatGPT's response:\n",
    "\"The error NameError: name 'p' is not defined occurs because you haven't imported the pandas library with the alias p.\n",
    "Make sure you include the following line at the beginning of your script:\n",
    "import pandas as p\n",
    "This imports pandas using the alias p, as per your preference. Once you add this, the error should be resolved.\"\n",
    "First title i see on google:\n",
    "\"You will encounter this error because the import cell is not being executed. Make sure to toggle it to code and execute that block again.\"\n",
    "ChatGPT's trouble shooting was more accurate, as well as direct and beginner-friendly.\n",
    "\n",
    "B.\n",
    "ChatGPT:\n",
    "\"The error HTTPError: HTTP Error 404: Not Found means that the URL you're trying to access does not exist or is incorrect. In your case, if you're working with a dataset, it's possible that the URL is incorrect or the file has been moved or deleted from the server.\"\n",
    "First solution on Google:\n",
    "\"This code will catch the 404 error which was the reason you got an error and ignore it just in case you go out of the range.\"\n",
    "Only GPT addressed the problem accurately. Google was less than helpful. I don't even know what it was talking about\n",
    "\n",
    "C.\n",
    "ChatGPT:\n",
    "The NameError: name 'DF' is not defined error suggests that you're trying to use a variable named DF that hasn't been defined in your script. In Python, variable names are case-sensitive, and the typical convention is to use lowercase letters (e.g., df instead of DF).\n",
    "If you're following standard practice and using df for the DataFrame, make sure that the variable is correctly named and defined before using it. Here's an example:\n",
    "Correct Usage:\n",
    "import pandas as p\n",
    "url = \"https://raw.githubusercontent.com/mwaskom/seaborn-data/master/titanic.csv\"\n",
    "df = p.read_csv(url)\n",
    "print(df.head())\n",
    "\n",
    "Google:\n",
    "\"df is declared in your function func_nb() it does not exists outside of it, you will need to add a return to the function and call it.\"\n",
    "\"The df name error usually occurs when you try to use a DataFrame object df before it has been defined. \"\n",
    "\n",
    "GPT wins since I got a more direct walkthrough solving the problem.\n",
    "\n",
    "\n",
    "D:GPT told me to include a closing parenthesis straightaway while the first answer on Google is talking something about reinstalling the crontab package. GPT wins.\n",
    "    \n",
    "E: GPT answered rightway that I need to use \"describe\" instead of \"describle\" Google, came up with attribute arror for \"Numbers\". GPT wins\n",
    "    \n",
    "F: Same as before. GPT identified the misppelled column name rightaway while google didn't offer anythig useful at first glance.\n",
    "    \n",
    "G: GPT was still as helpful. it immediately identified the issue, replying: The NameError: name 'age' is not defined means you're trying to use age as a variable or column, but it hasn't been defined or referenced correctly. In the context of a DataFrame like the Titanic dataset, age should be referenced as a column.\n",
    "\n",
    "So far GPT hasn't disappointed me yet. It's on fire\n"
   ]
  },
  {
   "cell_type": "markdown",
   "id": "d3cf65cf",
   "metadata": {},
   "source": [
    "For Question 8: https://chatgpt.com/share/14de9bf7-2fba-4488-aebd-4a82bdc050b4\n",
    "        \n",
    "Summary:\n",
    "    \n",
    "Data Analysis on Titanic Dataset:\n",
    "\n",
    "You are working on the Titanic dataset from the URL https://raw.githubusercontent.com/mwaskom/seaborn-data/master/titanic.csv, and performing initial summary analyses, particularly focusing on handling missing data and group-based summaries.\n",
    "Understanding .groupby() and .describe():\n",
    "\n",
    "You explored how df.groupby(\"col1\")[\"col2\"].describe() works by performing this analysis on the Titanic dataset. We discussed how groupby summarizes data within groups and how it handles missing values.\n",
    "You were trying to understand the difference between global summary statistics (df.describe()) and group-based statistics (df.groupby(\"col1\")[\"col2\"].describe()), focusing on how count is handled differently in each case.\n",
    "Clarification on Errors:\n",
    "\n",
    "Several common Python errors were resolved, including:\n",
    "NameError: name 'p' is not defined due to missing the import statement (import pandas as p).\n",
    "HTTPError: HTTP Error 404 related to an incorrect or unavailable URL.\n",
    "NameError: name 'DF' is not defined due to case sensitivity (df vs. DF).\n",
    "SyntaxError: '(' was never closed was addressed by ensuring correct use of parentheses in code.\n",
    "Typo in method name (.describle() instead of .describe()).\n",
    "NameError: name 'age' is not defined, which required correctly referencing the column df['age'].\n",
    "Interpreting the Homework Question:\n",
    "\n",
    "You were interpreting a homework question that asked why df.describe() and df.groupby('col1')['col2'].describe() give fundamentally different count values.\n",
    "We explored how df.describe() gives a global summary of non-missing values across the entire dataset, while df.groupby('col1')['col2'].describe() summarizes data within each group, excluding missing values within each group.\n",
    "Final Comparisons:\n",
    "\n",
    "We discussed how df.describe() gives a sense of overall data completeness, while df.groupby().describe() provides insight into data distribution across groups, which has a different function beyond handling missing values.\n",
    "This covers your key questions and the technical errors you encountered, focusing on the distinctions between global and grouped summary statistics, error resolution, and correct referencing of DataFrame columns."
   ]
  },
  {
   "cell_type": "code",
   "execution_count": null,
   "id": "434dd5b6",
   "metadata": {},
   "outputs": [],
   "source": [
    "#Question 9: Yeah"
   ]
  }
 ],
 "metadata": {
  "kernelspec": {
   "display_name": "Python 3 (ipykernel)",
   "language": "python",
   "name": "python3"
  },
  "language_info": {
   "codemirror_mode": {
    "name": "ipython",
    "version": 3
   },
   "file_extension": ".py",
   "mimetype": "text/x-python",
   "name": "python",
   "nbconvert_exporter": "python",
   "pygments_lexer": "ipython3",
   "version": "3.11.6"
  }
 },
 "nbformat": 4,
 "nbformat_minor": 5
}
